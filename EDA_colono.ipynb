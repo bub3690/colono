{
 "cells": [
  {
   "cell_type": "code",
   "execution_count": 1,
   "metadata": {},
   "outputs": [],
   "source": [
    "import cv2\n",
    "import numpy as np\n",
    "import pandas as pd\n",
    "import matplotlib.pyplot as plt\n",
    "import seaborn as sns\n",
    "\n",
    "import os\n",
    "import pydicom\n",
    "from ipywidgets import interact, IntSlider\n",
    "\n",
    "from glob import glob\n",
    "import torch\n",
    "\n",
    "\n",
    "from ipywidgets import fixed\n"
   ]
  },
  {
   "cell_type": "code",
   "execution_count": 2,
   "metadata": {},
   "outputs": [],
   "source": [
    "train_list = glob(\"/ssd2/colono/data/TrainDataset/image/*.png\")\n",
    "train_mask_list = glob(\"/ssd2/colono/data/TrainDataset/mask/*.png\")\n",
    "\n",
    "\n",
    "# 정렬\n",
    "train_list.sort()\n",
    "train_mask_list.sort()"
   ]
  },
  {
   "cell_type": "code",
   "execution_count": 3,
   "metadata": {},
   "outputs": [
    {
     "name": "stdout",
     "output_type": "stream",
     "text": [
      "1450 1450\n"
     ]
    }
   ],
   "source": [
    "print(len(train_list), len(train_mask_list))"
   ]
  },
  {
   "cell_type": "code",
   "execution_count": 4,
   "metadata": {},
   "outputs": [
    {
     "name": "stdout",
     "output_type": "stream",
     "text": [
      "[288 332   3] [1072 1920    3] 1450\n"
     ]
    }
   ],
   "source": [
    "# 이미지 read\n",
    "# 이미지 사이즈 범위 출력. 전체 파일\n",
    "sizes = []\n",
    "for i in train_list:\n",
    "    img = cv2.imread(i)\n",
    "    sizes.append(img.shape)\n",
    "sizes = np.array(sizes)\n",
    "print(sizes.min(axis=0), sizes.max(axis=0),len(sizes))\n"
   ]
  },
  {
   "cell_type": "code",
   "execution_count": 5,
   "metadata": {},
   "outputs": [
    {
     "data": {
      "application/vnd.jupyter.widget-view+json": {
       "model_id": "ea98fe5a124a468dbf1e9732bab623dd",
       "version_major": 2,
       "version_minor": 0
      },
      "text/plain": [
       "interactive(children=(IntSlider(value=0, description='idx', max=1449), Output()), _dom_classes=('widget-intera…"
      ]
     },
     "metadata": {},
     "output_type": "display_data"
    },
    {
     "data": {
      "text/plain": [
       "<function __main__.show_image(idx)>"
      ]
     },
     "execution_count": 5,
     "metadata": {},
     "output_type": "execute_result"
    }
   ],
   "source": [
    "# 이미지 확인\n",
    "def show_image(idx):\n",
    "    plt.figure(figsize=(10, 10))\n",
    "    plt.subplot(1, 2, 1)\n",
    "    image = plt.imread(train_list[idx])\n",
    "    plt.imshow(image, cmap='gray')\n",
    "    plt.subplot(1, 2, 2)\n",
    "    mask = plt.imread(train_mask_list[idx])\n",
    "    plt.imshow(mask, cmap='gray')\n",
    "\n",
    "interact(show_image, idx=IntSlider(min=0, max=len(train_list)-1, step=1, value=0))\n"
   ]
  },
  {
   "cell_type": "code",
   "execution_count": 6,
   "metadata": {},
   "outputs": [],
   "source": [
    "# testset 확인\n",
    "\n",
    "cvc_list = glob(\"/ssd2/colono/data/TestDataset/CVC-300/images/*.png\")\n",
    "cvc_clinic = glob(\"/ssd2/colono/data/TestDataset/CVC-ClinicDB/images/*.png\")\n",
    "cvc_colon = glob(\"/ssd2/colono/data/TestDataset/CVC-ColonDB/images/*.png\")\n",
    "etis_list = glob(\"/ssd2/colono/data/TestDataset/ETIS-LaribPolypDB/images/*.png\")\n",
    "Kvasir_list = glob(\"/ssd2/colono/data/TestDataset/Kvasir/images/*.png\")\n",
    "\n",
    "cvc_list.sort()\n",
    "cvc_clinic.sort()\n",
    "cvc_colon.sort()\n",
    "etis_list.sort()\n",
    "Kvasir_list.sort()"
   ]
  },
  {
   "cell_type": "code",
   "execution_count": 7,
   "metadata": {},
   "outputs": [],
   "source": [
    "# testset 확인\n",
    "\n",
    "cvc_list_mask = glob(\"/ssd2/colono/data/TestDataset/CVC-300/masks/*.png\")\n",
    "cvc_clinic_mask = glob(\"/ssd2/colono/data/TestDataset/CVC-ClinicDB/masks/*.png\")\n",
    "cvc_colon_mask = glob(\"/ssd2/colono/data/TestDataset/CVC-ColonDB/masks/*.png\")\n",
    "etis_list_mask = glob(\"/ssd2/colono/data/TestDataset/ETIS-LaribPolypDB/masks/*.png\")\n",
    "Kvasir_list_mask = glob(\"/ssd2/colono/data/TestDataset/Kvasir/masks/*.png\")\n",
    "\n",
    "cvc_list_mask.sort()\n",
    "cvc_clinic_mask.sort()\n",
    "cvc_colon_mask.sort()\n",
    "etis_list_mask.sort()\n",
    "Kvasir_list_mask.sort()"
   ]
  },
  {
   "cell_type": "code",
   "execution_count": 8,
   "metadata": {},
   "outputs": [
    {
     "name": "stdout",
     "output_type": "stream",
     "text": [
      "CVC-300\n",
      "[500 574   3] [500 574   3] 60\n",
      "CVC-ClinicDB\n",
      "[288 384   3] [288 384   3] 62\n",
      "CVC-ColonDB\n",
      "[500 574   3] [500 574   3] 380\n",
      "ETIS-LaribPolypDB\n",
      "[ 966 1225    3] [ 966 1225    3] 196\n",
      "Kvasir\n",
      "[352 490   3] [1070 1348    3] 100\n"
     ]
    }
   ],
   "source": [
    "# testset 리스트들의 사이즈 범위와 갯수 확인\n",
    "\n",
    "\n",
    "for dataset in [cvc_list, cvc_clinic, cvc_colon, etis_list, Kvasir_list]:\n",
    "    \n",
    "    sizes = []\n",
    "    if dataset == cvc_list:\n",
    "        print(\"CVC-300\")\n",
    "    elif dataset == cvc_clinic:\n",
    "        print(\"CVC-ClinicDB\")\n",
    "    elif dataset == cvc_colon:\n",
    "        print(\"CVC-ColonDB\")\n",
    "    elif dataset == etis_list:\n",
    "        print(\"ETIS-LaribPolypDB\")\n",
    "    elif dataset == Kvasir_list:\n",
    "        print(\"Kvasir\")\n",
    "\n",
    "    for i in dataset:\n",
    "        img = cv2.imread(i)\n",
    "        sizes.append(img.shape)\n",
    "\n",
    "    sizes = np.array(sizes)\n",
    "    print(sizes.min(axis=0), sizes.max(axis=0),len(sizes))\n",
    "\n",
    "\n"
   ]
  },
  {
   "cell_type": "code",
   "execution_count": 9,
   "metadata": {},
   "outputs": [],
   "source": [
    "def show_image_test(idx,test_list,test_mask_list):\n",
    "    plt.figure(figsize=(10, 10))\n",
    "    plt.subplot(1, 2, 1)\n",
    "    image = plt.imread(test_list[idx])\n",
    "    plt.imshow(image, cmap='gray')\n",
    "    plt.subplot(1, 2, 2)\n",
    "    mask = plt.imread(test_mask_list[idx])\n",
    "    plt.imshow(mask, cmap='gray')"
   ]
  },
  {
   "cell_type": "code",
   "execution_count": 10,
   "metadata": {},
   "outputs": [
    {
     "data": {
      "application/vnd.jupyter.widget-view+json": {
       "model_id": "eb9bf0c9ca024c1996d4aa0f35b03053",
       "version_major": 2,
       "version_minor": 0
      },
      "text/plain": [
       "interactive(children=(IntSlider(value=0, description='idx', max=59), Output()), _dom_classes=('widget-interact…"
      ]
     },
     "metadata": {},
     "output_type": "display_data"
    },
    {
     "data": {
      "text/plain": [
       "<function __main__.show_image_test(idx, test_list, test_mask_list)>"
      ]
     },
     "execution_count": 10,
     "metadata": {},
     "output_type": "execute_result"
    }
   ],
   "source": [
    "\n",
    "interact(show_image_test, idx=IntSlider(min=0, max=len(cvc_list)-1, step=1, value=0), test_list=fixed(cvc_list), test_mask_list=fixed(cvc_list_mask))\n"
   ]
  },
  {
   "cell_type": "code",
   "execution_count": 11,
   "metadata": {},
   "outputs": [
    {
     "data": {
      "application/vnd.jupyter.widget-view+json": {
       "model_id": "4ce90c7e5f5e41fd86b6b09c3d5ce45d",
       "version_major": 2,
       "version_minor": 0
      },
      "text/plain": [
       "interactive(children=(IntSlider(value=0, description='idx', max=61), Output()), _dom_classes=('widget-interact…"
      ]
     },
     "metadata": {},
     "output_type": "display_data"
    },
    {
     "data": {
      "text/plain": [
       "<function __main__.show_image_test(idx, test_list, test_mask_list)>"
      ]
     },
     "execution_count": 11,
     "metadata": {},
     "output_type": "execute_result"
    }
   ],
   "source": [
    "\n",
    "\n",
    "interact(show_image_test, idx=IntSlider(min=0, max=len(cvc_clinic)-1, step=1, value=0), test_list=fixed(cvc_clinic), test_mask_list=fixed(cvc_clinic_mask))\n"
   ]
  },
  {
   "cell_type": "code",
   "execution_count": 12,
   "metadata": {},
   "outputs": [
    {
     "data": {
      "application/vnd.jupyter.widget-view+json": {
       "model_id": "248b3c2ead2842e8b2cbab575f775656",
       "version_major": 2,
       "version_minor": 0
      },
      "text/plain": [
       "interactive(children=(IntSlider(value=0, description='idx', max=379), Output()), _dom_classes=('widget-interac…"
      ]
     },
     "metadata": {},
     "output_type": "display_data"
    },
    {
     "data": {
      "text/plain": [
       "<function __main__.show_image_test(idx, test_list, test_mask_list)>"
      ]
     },
     "execution_count": 12,
     "metadata": {},
     "output_type": "execute_result"
    }
   ],
   "source": [
    "\n",
    "\n",
    "\n",
    "interact(show_image_test, idx=IntSlider(min=0, max=len(cvc_colon)-1, step=1, value=0), test_list=fixed(cvc_colon), test_mask_list=fixed(cvc_colon_mask))\n",
    "\n"
   ]
  },
  {
   "cell_type": "code",
   "execution_count": 13,
   "metadata": {},
   "outputs": [
    {
     "data": {
      "application/vnd.jupyter.widget-view+json": {
       "model_id": "b6e990b2dc3b4da3960689fac7425609",
       "version_major": 2,
       "version_minor": 0
      },
      "text/plain": [
       "interactive(children=(IntSlider(value=0, description='idx', max=195), Output()), _dom_classes=('widget-interac…"
      ]
     },
     "metadata": {},
     "output_type": "display_data"
    },
    {
     "data": {
      "text/plain": [
       "<function __main__.show_image_test(idx, test_list, test_mask_list)>"
      ]
     },
     "execution_count": 13,
     "metadata": {},
     "output_type": "execute_result"
    }
   ],
   "source": [
    "\n",
    "\n",
    "\n",
    "interact(show_image_test, idx=IntSlider(min=0, max=len(etis_list)-1, step=1, value=0), test_list=fixed(etis_list), test_mask_list=fixed(etis_list_mask))\n"
   ]
  },
  {
   "cell_type": "code",
   "execution_count": 14,
   "metadata": {},
   "outputs": [
    {
     "data": {
      "application/vnd.jupyter.widget-view+json": {
       "model_id": "98111e87cb0e41adbdbff64fe71c6ffa",
       "version_major": 2,
       "version_minor": 0
      },
      "text/plain": [
       "interactive(children=(IntSlider(value=0, description='idx', max=99), Output()), _dom_classes=('widget-interact…"
      ]
     },
     "metadata": {},
     "output_type": "display_data"
    },
    {
     "data": {
      "text/plain": [
       "<function __main__.show_image_test(idx, test_list, test_mask_list)>"
      ]
     },
     "execution_count": 14,
     "metadata": {},
     "output_type": "execute_result"
    }
   ],
   "source": [
    "\n",
    "\n",
    "\n",
    "\n",
    "interact(show_image_test, idx=IntSlider(min=0, max=len(Kvasir_list)-1, step=1, value=0), test_list=fixed(Kvasir_list), test_mask_list=fixed(Kvasir_list_mask))\n"
   ]
  }
 ],
 "metadata": {
  "kernelspec": {
   "display_name": "ssl",
   "language": "python",
   "name": "python3"
  },
  "language_info": {
   "codemirror_mode": {
    "name": "ipython",
    "version": 3
   },
   "file_extension": ".py",
   "mimetype": "text/x-python",
   "name": "python",
   "nbconvert_exporter": "python",
   "pygments_lexer": "ipython3",
   "version": "3.8.18"
  }
 },
 "nbformat": 4,
 "nbformat_minor": 2
}
